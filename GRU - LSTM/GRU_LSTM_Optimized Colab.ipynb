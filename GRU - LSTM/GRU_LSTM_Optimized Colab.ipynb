{
  "cells": [
    {
      "cell_type": "code",
      "execution_count": null,
      "id": "jIw9njDRW0Lb",
      "metadata": {
        "colab": {
          "base_uri": "https://localhost:8080/",
          "height": 101,
          "referenced_widgets": [
            "114b8a36c677493a8226f5c4ddfe84f6",
            "ea54300a87ee4d3fb4658044d4b3c89d",
            "1c2d282cd6c6417ca81647cf09a98d68",
            "4925eceb92d549e79775dc4e64132ea5",
            "165133bd96f44b8b8a5f7f47ddae968d",
            "24f593f0865548cb84116cf185d25e69",
            "e97feec12ba04f50b296f01ae6c1a721",
            "5fef7519d03d4baf8e5d2afbea90b5e5",
            "3d989c510e8d4bbca93a2127e0dfe648",
            "852525d7bafd4d9fabe3b40ea0233426",
            "a70f49d2c34940c49ba7ced148bcb6d2",
            "2444f0dc192f46249ecbdccebab79e0d",
            "ba0df2feb556442c9d9baeb2e1eaaab8",
            "6588badc6569444bb2c5d0ed8d94342e",
            "bcba8a283a5d45ebbfbafcdf6edb4484",
            "bd84f7a75f8e41d2acd89db3606d0a42",
            "67514ce4975249e9a2b96a487caa5ee0",
            "390a58dc2df84f50b788d2e8b6ccb51c",
            "2bd42080cde54a8d8cdc6e42ea661255",
            "47f3827e2db3407eae2a536c9d598791",
            "d2f19150ee68458c90d741ff5dd8bb1c",
            "c6fafcd5c16544b8aa7bff60d6b7be96",
            "5c2fa4c0efbe4d6ebb44d455b1b79d6b"
          ]
        },
        "id": "jIw9njDRW0Lb",
        "outputId": "0f9f73b9-fde6-4d97-d14b-dbd1a4fdc434"
      },
      "outputs": [],
      "source": [
        "# IMPORTANT: SOME KAGGLE DATA SOURCES ARE PRIVATE\n",
        "# RUN THIS CELL IN ORDER TO IMPORT YOUR KAGGLE DATA SOURCES.\n",
        "import kagglehub\n",
        "kagglehub.login()"
      ]
    },
    {
      "cell_type": "code",
      "execution_count": null,
      "id": "lOOJBOloW5t8",
      "metadata": {
        "colab": {
          "base_uri": "https://localhost:8080/"
        },
        "id": "lOOJBOloW5t8",
        "outputId": "8cb71197-54a1-467a-aa44-b7330ff7fb99"
      },
      "outputs": [],
      "source": [
        "# IMPORTANT: RUN THIS CELL IN ORDER TO IMPORT YOUR KAGGLE DATA SOURCES,\n",
        "# THEN FEEL FREE TO DELETE THIS CELL.\n",
        "# NOTE: THIS NOTEBOOK ENVIRONMENT DIFFERS FROM KAGGLE'S PYTHON\n",
        "# ENVIRONMENT SO THERE MAY BE MISSING LIBRARIES USED BY YOUR\n",
        "# NOTEBOOK.\n",
        "\n",
        "toxicmender_20bn_jester_path = kagglehub.dataset_download('toxicmender/20bn-jester')\n",
        "isharau_trimmed_path = kagglehub.dataset_download('isharau/trimmed')\n",
        "\n",
        "print('Data source import complete.')"
      ]
    },
    {
      "cell_type": "code",
      "execution_count": null,
      "id": "uq0PwJCDXyfC",
      "metadata": {
        "colab": {
          "base_uri": "https://localhost:8080/"
        },
        "id": "uq0PwJCDXyfC",
        "outputId": "7b957fd1-d4db-49b3-965a-0da8d44e44b3"
      },
      "outputs": [],
      "source": [
        "!find / -name \"20bn-jester\" 2>/dev/null"
      ]
    },
    {
      "cell_type": "code",
      "execution_count": null,
      "id": "RQkIoXxXZN0H",
      "metadata": {
        "colab": {
          "base_uri": "https://localhost:8080/"
        },
        "id": "RQkIoXxXZN0H",
        "outputId": "fd732a78-d8a7-49b0-de1f-ea7ec6738713"
      },
      "outputs": [],
      "source": [
        "!ls /root/.cache/kagglehub/datasets/toxicmender/20bn-jester/versions/3"
      ]
    },
    {
      "cell_type": "code",
      "execution_count": null,
      "id": "yDalyS0kW-A3",
      "metadata": {
        "id": "yDalyS0kW-A3"
      },
      "outputs": [],
      "source": [
        "!cp -r /root/.cache/kagglehub/datasets/toxicmender/20bn-jester /content/  # run this if you want to copy jester to here"
      ]
    },
    {
      "cell_type": "markdown",
      "id": "7d79734d",
      "metadata": {
        "id": "7d79734d",
        "papermill": {
          "duration": 0.003979,
          "end_time": "2025-01-04T17:38:12.446091",
          "exception": false,
          "start_time": "2025-01-04T17:38:12.442112",
          "status": "completed"
        },
        "tags": []
      },
      "source": [
        "## **CNN-LSTM**"
      ]
    },
    {
      "cell_type": "code",
      "execution_count": 5,
      "id": "60d5d236",
      "metadata": {
        "execution": {
          "iopub.execute_input": "2025-01-05T16:07:20.352536Z",
          "iopub.status.busy": "2025-01-05T16:07:20.352153Z",
          "iopub.status.idle": "2025-01-05T16:07:20.358708Z",
          "shell.execute_reply": "2025-01-05T16:07:20.357292Z",
          "shell.execute_reply.started": "2025-01-05T16:07:20.352495Z"
        },
        "id": "60d5d236",
        "papermill": {
          "duration": 21.744742,
          "end_time": "2025-01-04T17:38:34.194183",
          "exception": false,
          "start_time": "2025-01-04T17:38:12.449441",
          "status": "completed"
        },
        "tags": [],
        "trusted": true
      },
      "outputs": [],
      "source": [
        "import os\n",
        "import numpy as np\n",
        "import pandas as pd\n",
        "import cv2\n",
        "from tensorflow.keras.utils import to_categorical\n",
        "from sklearn.model_selection import train_test_split\n",
        "from tensorflow.keras import layers, models\n",
        "from tqdm import tqdm\n",
        "import matplotlib.pyplot as plt"
      ]
    },
    {
      "cell_type": "code",
      "execution_count": 7,
      "id": "a9d777b3",
      "metadata": {
        "execution": {
          "iopub.execute_input": "2025-01-05T16:07:28.542205Z",
          "iopub.status.busy": "2025-01-05T16:07:28.541786Z",
          "iopub.status.idle": "2025-01-05T16:07:28.554171Z",
          "shell.execute_reply": "2025-01-05T16:07:28.552451Z",
          "shell.execute_reply.started": "2025-01-05T16:07:28.542169Z"
        },
        "id": "a9d777b3",
        "papermill": {
          "duration": 0.015908,
          "end_time": "2025-01-04T17:38:34.221530",
          "exception": false,
          "start_time": "2025-01-04T17:38:34.205622",
          "status": "completed"
        },
        "tags": [],
        "trusted": true
      },
      "outputs": [],
      "source": [
        "def load_data(folder_path, csv_path, is_train=True, max_frames=30, img_size=(64, 64)):\n",
        "    df = pd.read_csv(csv_path)\n",
        "    video_ids = df['video_id'].values\n",
        "    labels = df['label'].values if is_train else None\n",
        "\n",
        "    num_samples = len(video_ids)\n",
        "    data = np.zeros((num_samples, max_frames, img_size[0], img_size[1], 3), dtype=np.uint8)\n",
        "    label_list = []\n",
        "\n",
        "    for i, video_id in tqdm(enumerate(video_ids), total=num_samples, desc=\"Loading images\"):\n",
        "        video_folder = os.path.join(folder_path, str(video_id))\n",
        "        if not os.path.exists(video_folder):\n",
        "            print(f\"Warning: Folder {video_folder} not found.\")\n",
        "            continue\n",
        "\n",
        "        frames = []\n",
        "        for img_name in sorted(os.listdir(video_folder))[:max_frames]:\n",
        "            img_path = os.path.join(video_folder, img_name)\n",
        "            img = cv2.imread(img_path)\n",
        "            if img is not None:\n",
        "                img = cv2.resize(img, img_size)\n",
        "                frames.append(img)\n",
        "\n",
        "        frames = np.array(frames, dtype=np.uint8)\n",
        "        data[i, :len(frames)] = frames\n",
        "\n",
        "        if is_train:\n",
        "            label_list.append(labels[i])\n",
        "\n",
        "    if is_train:\n",
        "        return data, np.array(label_list)\n",
        "    else:\n",
        "        return data, None"
      ]
    },
    {
      "cell_type": "code",
      "execution_count": null,
      "id": "87f14e02",
      "metadata": {
        "colab": {
          "base_uri": "https://localhost:8080/",
          "height": 349
        },
        "execution": {
          "iopub.execute_input": "2025-01-05T16:08:32.037795Z",
          "iopub.status.busy": "2025-01-05T16:08:32.037366Z",
          "iopub.status.idle": "2025-01-05T16:08:52.367175Z",
          "shell.execute_reply": "2025-01-05T16:08:52.365984Z",
          "shell.execute_reply.started": "2025-01-05T16:08:32.037753Z"
        },
        "id": "87f14e02",
        "outputId": "0dc044a2-f24b-4546-d690-c614f3e899e3",
        "papermill": {
          "duration": 0.825689,
          "end_time": "2025-01-04T17:38:35.050531",
          "exception": true,
          "start_time": "2025-01-04T17:38:34.224842",
          "status": "failed"
        },
        "tags": [],
        "trusted": true
      },
      "outputs": [],
      "source": [
        "train_folder = \"/root/.cache/kagglehub/datasets/toxicmender/20bn-jester/versions/3/Train\"\n",
        "test_folder = \"/root/.cache/kagglehub/datasets/toxicmender/20bn-jester/versions/3/Test\"\n",
        "train_csv = \"/root/.cache/kagglehub/datasets/toxicmender/20bn-jester/versions/3/Train.csv\"\n",
        "test_csv = \"/content/Test.csv\"\n",
        "\n",
        "X_train, y_train = load_data(train_folder, train_csv, is_train=True)\n",
        "X_test, _ = load_data(test_folder, test_csv, is_train=False)\n",
        "\n",
        "# Encode labels\n",
        "unique_labels = np.unique(y_train)\n",
        "label_mapping = {label: idx for idx, label in enumerate(unique_labels)}\n",
        "y_train_encoded = np.array([label_mapping[label] for label in y_train])\n",
        "y_train_onehot = to_categorical(y_train_encoded, num_classes=len(unique_labels))\n"
      ]
    },
    {
      "cell_type": "code",
      "execution_count": null,
      "id": "0a111f83",
      "metadata": {
        "colab": {
          "base_uri": "https://localhost:8080/",
          "height": 211
        },
        "execution": {
          "iopub.execute_input": "2025-01-05T16:08:56.962499Z",
          "iopub.status.busy": "2025-01-05T16:08:56.962054Z",
          "iopub.status.idle": "2025-01-05T16:09:06.484244Z",
          "shell.execute_reply": "2025-01-05T16:09:06.482983Z",
          "shell.execute_reply.started": "2025-01-05T16:08:56.962461Z"
        },
        "id": "0a111f83",
        "outputId": "9ed66b73-6275-4976-810c-41130afe576b",
        "papermill": {
          "duration": null,
          "end_time": null,
          "exception": null,
          "start_time": null,
          "status": "pending"
        },
        "tags": [],
        "trusted": true
      },
      "outputs": [],
      "source": [
        "# Normalize pixel values\n",
        "X_train = X_train.astype('float32') / 255.0\n",
        "X_test = X_test.astype('float32') / 255.0\n",
        "\n",
        "# Ensure the shape is consistent\n",
        "X_train = X_train.reshape((X_train.shape[0], X_train.shape[1], 64, 64, 3))\n",
        "X_test = X_test.reshape((X_test.shape[0], X_test.shape[1], 64, 64, 3))\n"
      ]
    },
    {
      "cell_type": "markdown",
      "id": "8d261f69",
      "metadata": {
        "id": "8d261f69",
        "papermill": {
          "duration": null,
          "end_time": null,
          "exception": null,
          "start_time": null,
          "status": "pending"
        },
        "tags": []
      },
      "source": [
        "### Model"
      ]
    },
    {
      "cell_type": "code",
      "execution_count": null,
      "id": "d628d72e",
      "metadata": {
        "colab": {
          "base_uri": "https://localhost:8080/",
          "height": 211
        },
        "execution": {
          "iopub.execute_input": "2025-01-05T16:09:13.297146Z",
          "iopub.status.busy": "2025-01-05T16:09:13.296090Z",
          "iopub.status.idle": "2025-01-05T16:09:13.532113Z",
          "shell.execute_reply": "2025-01-05T16:09:13.530985Z",
          "shell.execute_reply.started": "2025-01-05T16:09:13.297106Z"
        },
        "id": "d628d72e",
        "outputId": "4af42d69-30ac-4341-f0c0-4d4957e99725",
        "papermill": {
          "duration": null,
          "end_time": null,
          "exception": null,
          "start_time": null,
          "status": "pending"
        },
        "tags": [],
        "trusted": true
      },
      "outputs": [],
      "source": [
        "model = models.Sequential([\n",
        "    # CNN Layers\n",
        "    layers.TimeDistributed(layers.Conv2D(64, (3, 3), activation='relu'), input_shape=(None, 64, 64, 3)),\n",
        "    layers.TimeDistributed(layers.MaxPooling2D((2, 2))),\n",
        "    layers.TimeDistributed(layers.Conv2D(128, (3, 3), activation='relu')),\n",
        "    layers.TimeDistributed(layers.MaxPooling2D((2, 2))),\n",
        "    layers.TimeDistributed(layers.GlobalAveragePooling2D()),  # Reduces parameters compared to Flatten\n",
        "\n",
        "    # LSTM Layers\n",
        "    layers.LSTM(64, return_sequences=True, activation='tanh'),\n",
        "    layers.LSTM(32, activation='tanh'),\n",
        "\n",
        "    # Dense Layers\n",
        "    layers.Dense(64, activation='relu'),\n",
        "    layers.Dropout(0.5),\n",
        "    layers.Dense(len(unique_labels), activation='softmax')\n",
        "])\n",
        "\n",
        "# Compile the model\n",
        "model.compile(optimizer='adam', loss='categorical_crossentropy', metrics=['accuracy'])\n",
        "\n",
        "# Model summary\n",
        "model.summary()"
      ]
    },
    {
      "cell_type": "code",
      "execution_count": null,
      "id": "54c592e4",
      "metadata": {
        "execution": {
          "iopub.execute_input": "2025-01-05T16:10:46.874658Z",
          "iopub.status.busy": "2025-01-05T16:10:46.874143Z",
          "iopub.status.idle": "2025-01-05T16:19:28.544301Z",
          "shell.execute_reply": "2025-01-05T16:19:28.543157Z",
          "shell.execute_reply.started": "2025-01-05T16:10:46.874606Z"
        },
        "id": "54c592e4",
        "papermill": {
          "duration": null,
          "end_time": null,
          "exception": null,
          "start_time": null,
          "status": "pending"
        },
        "tags": [],
        "trusted": true
      },
      "outputs": [],
      "source": [
        "# Training\n",
        "history = model.fit(X_train, y_train_onehot, epochs=50, batch_size=8, validation_split=0.2)"
      ]
    },
    {
      "cell_type": "code",
      "execution_count": null,
      "id": "5f73296c",
      "metadata": {
        "execution": {
          "iopub.execute_input": "2025-01-05T16:19:44.069535Z",
          "iopub.status.busy": "2025-01-05T16:19:44.069109Z",
          "iopub.status.idle": "2025-01-05T16:19:49.889227Z",
          "shell.execute_reply": "2025-01-05T16:19:49.887316Z",
          "shell.execute_reply.started": "2025-01-05T16:19:44.069489Z"
        },
        "id": "5f73296c",
        "papermill": {
          "duration": null,
          "end_time": null,
          "exception": null,
          "start_time": null,
          "status": "pending"
        },
        "tags": [],
        "trusted": true
      },
      "outputs": [],
      "source": [
        "predictions = model.predict(X_test)\n",
        "predicted_labels = [unique_labels[np.argmax(pred)] for pred in predictions]\n",
        "\n",
        "test_df = pd.read_csv(test_csv)\n",
        "test_df['label'] = predicted_labels\n",
        "test_df.head()"
      ]
    },
    {
      "cell_type": "code",
      "execution_count": null,
      "id": "2aab4c8a",
      "metadata": {
        "execution": {
          "iopub.execute_input": "2025-01-05T16:20:10.829852Z",
          "iopub.status.busy": "2025-01-05T16:20:10.829434Z",
          "iopub.status.idle": "2025-01-05T16:20:11.498249Z",
          "shell.execute_reply": "2025-01-05T16:20:11.497072Z",
          "shell.execute_reply.started": "2025-01-05T16:20:10.829813Z"
        },
        "id": "2aab4c8a",
        "papermill": {
          "duration": null,
          "end_time": null,
          "exception": null,
          "start_time": null,
          "status": "pending"
        },
        "tags": [],
        "trusted": true
      },
      "outputs": [],
      "source": [
        "import matplotlib.pyplot as plt\n",
        "\n",
        "# Plot akurasi\n",
        "plt.plot(history.history['accuracy'], label='Train Accuracy')\n",
        "plt.xlabel('Epochs')\n",
        "plt.ylabel('Accuracy')\n",
        "plt.legend()\n",
        "plt.title('Training Accuracy')\n",
        "plt.show()\n",
        "\n",
        "# Plot loss\n",
        "plt.plot(history.history['loss'], label='Train Loss')\n",
        "plt.xlabel('Epochs')\n",
        "plt.ylabel('Loss')\n",
        "plt.legend()\n",
        "plt.title('Training Loss')\n",
        "plt.show()"
      ]
    },
    {
      "cell_type": "code",
      "execution_count": null,
      "id": "9b150dbc",
      "metadata": {
        "execution": {
          "iopub.execute_input": "2025-01-05T16:20:23.821612Z",
          "iopub.status.busy": "2025-01-05T16:20:23.821205Z",
          "iopub.status.idle": "2025-01-05T16:20:23.828576Z",
          "shell.execute_reply": "2025-01-05T16:20:23.827480Z",
          "shell.execute_reply.started": "2025-01-05T16:20:23.821575Z"
        },
        "id": "9b150dbc",
        "papermill": {
          "duration": null,
          "end_time": null,
          "exception": null,
          "start_time": null,
          "status": "pending"
        },
        "tags": [],
        "trusted": true
      },
      "outputs": [],
      "source": [
        "final_accuracy = history.history['accuracy'][-1]\n",
        "print(f\"Final Training Accuracy: {final_accuracy * 100:.2f}%\")\n",
        "\n",
        "for epoch, acc in enumerate(history.history['accuracy'], start=1):\n",
        "    print(f\"Epoch {epoch}: Training Accuracy = {acc * 100:.2f}%\")\n",
        "\n",
        "final_loss = history.history['loss'][-1]\n",
        "print(f\"Final Training Loss: {final_loss:.4f}\")"
      ]
    },
    {
      "cell_type": "code",
      "execution_count": null,
      "id": "be29a590",
      "metadata": {
        "execution": {
          "iopub.execute_input": "2025-01-05T16:20:48.980029Z",
          "iopub.status.busy": "2025-01-05T16:20:48.979404Z",
          "iopub.status.idle": "2025-01-05T16:20:49.608590Z",
          "shell.execute_reply": "2025-01-05T16:20:49.607358Z",
          "shell.execute_reply.started": "2025-01-05T16:20:48.979936Z"
        },
        "id": "be29a590",
        "papermill": {
          "duration": null,
          "end_time": null,
          "exception": null,
          "start_time": null,
          "status": "pending"
        },
        "tags": [],
        "trusted": true
      },
      "outputs": [],
      "source": [
        "import matplotlib.pyplot as plt\n",
        "\n",
        "plt.plot(history.history['accuracy'], label='Train Accuracy')\n",
        "plt.plot(history.history['val_accuracy'], label='Validation Accuracy')\n",
        "plt.xlabel('Epochs')\n",
        "plt.ylabel('Accuracy')\n",
        "plt.legend()\n",
        "plt.title('Training and Validation Accuracy')\n",
        "plt.show()\n",
        "\n",
        "# Plot loss\n",
        "plt.plot(history.history['loss'], label='Train Loss')\n",
        "plt.plot(history.history['val_loss'], label='Validation Loss')\n",
        "plt.xlabel('Epochs')\n",
        "plt.ylabel('Loss')\n",
        "plt.legend()\n",
        "plt.title('Training and Validation Loss')\n",
        "plt.show()"
      ]
    },
    {
      "cell_type": "markdown",
      "id": "f32999b6",
      "metadata": {
        "id": "f32999b6",
        "papermill": {
          "duration": null,
          "end_time": null,
          "exception": null,
          "start_time": null,
          "status": "pending"
        },
        "tags": []
      },
      "source": [
        "## **CNN-GRU**"
      ]
    },
    {
      "cell_type": "code",
      "execution_count": null,
      "id": "70ab83e2",
      "metadata": {
        "execution": {
          "iopub.execute_input": "2025-01-05T16:20:58.758515Z",
          "iopub.status.busy": "2025-01-05T16:20:58.758099Z",
          "iopub.status.idle": "2025-01-05T16:20:58.882027Z",
          "shell.execute_reply": "2025-01-05T16:20:58.880759Z",
          "shell.execute_reply.started": "2025-01-05T16:20:58.758478Z"
        },
        "id": "70ab83e2",
        "papermill": {
          "duration": null,
          "end_time": null,
          "exception": null,
          "start_time": null,
          "status": "pending"
        },
        "tags": [],
        "trusted": true
      },
      "outputs": [],
      "source": [
        "model = models.Sequential([\n",
        "    # CNN Layers\n",
        "    layers.TimeDistributed(layers.Conv2D(64, (3, 3), activation='relu'), input_shape=(None, 64, 64, 3)),\n",
        "    layers.TimeDistributed(layers.MaxPooling2D((2, 2))),\n",
        "    layers.TimeDistributed(layers.Conv2D(128, (3, 3), activation='relu')),\n",
        "    layers.TimeDistributed(layers.MaxPooling2D((2, 2))),\n",
        "    layers.TimeDistributed(layers.GlobalAveragePooling2D()),  # Reduces parameters compared to Flatten\n",
        "\n",
        "    # GRU Layers\n",
        "    layers.GRU(64, return_sequences=True, activation='tanh'),\n",
        "    layers.GRU(32, activation='tanh'),\n",
        "\n",
        "    # Dense Layers\n",
        "    layers.Dense(64, activation='relu'),\n",
        "    layers.Dropout(0.5),\n",
        "    layers.Dense(len(unique_labels), activation='softmax')\n",
        "])\n",
        "\n",
        "# Compile the model\n",
        "model.compile(optimizer='adam', loss='categorical_crossentropy', metrics=['accuracy'])\n",
        "\n",
        "# Model summary\n",
        "model.summary()"
      ]
    },
    {
      "cell_type": "code",
      "execution_count": null,
      "id": "af5d5144",
      "metadata": {
        "execution": {
          "iopub.execute_input": "2025-01-05T16:21:20.937138Z",
          "iopub.status.busy": "2025-01-05T16:21:20.936712Z",
          "iopub.status.idle": "2025-01-05T16:31:54.563435Z",
          "shell.execute_reply": "2025-01-05T16:31:54.562046Z",
          "shell.execute_reply.started": "2025-01-05T16:21:20.937103Z"
        },
        "id": "af5d5144",
        "papermill": {
          "duration": null,
          "end_time": null,
          "exception": null,
          "start_time": null,
          "status": "pending"
        },
        "tags": [],
        "trusted": true
      },
      "outputs": [],
      "source": [
        "# Training the model\n",
        "history = model.fit(X_train, y_train_onehot, epochs=50, batch_size=4, validation_split=0.2)"
      ]
    },
    {
      "cell_type": "code",
      "execution_count": null,
      "id": "567e0357",
      "metadata": {
        "execution": {
          "iopub.execute_input": "2025-01-05T16:32:17.913907Z",
          "iopub.status.busy": "2025-01-05T16:32:17.913434Z",
          "iopub.status.idle": "2025-01-05T16:32:24.182417Z",
          "shell.execute_reply": "2025-01-05T16:32:24.181270Z",
          "shell.execute_reply.started": "2025-01-05T16:32:17.913857Z"
        },
        "id": "567e0357",
        "papermill": {
          "duration": null,
          "end_time": null,
          "exception": null,
          "start_time": null,
          "status": "pending"
        },
        "tags": [],
        "trusted": true
      },
      "outputs": [],
      "source": [
        "# Predictions on test data\n",
        "predictions = model.predict(X_test)\n",
        "predicted_labels = [unique_labels[np.argmax(pred)] for pred in predictions]\n",
        "\n",
        "test_df = pd.read_csv(test_csv)\n",
        "test_df['label'] = predicted_labels\n",
        "test_df.head()"
      ]
    },
    {
      "cell_type": "code",
      "execution_count": null,
      "id": "3881456f",
      "metadata": {
        "execution": {
          "iopub.execute_input": "2025-01-05T16:32:36.785286Z",
          "iopub.status.busy": "2025-01-05T16:32:36.784683Z",
          "iopub.status.idle": "2025-01-05T16:32:37.132442Z",
          "shell.execute_reply": "2025-01-05T16:32:37.131229Z",
          "shell.execute_reply.started": "2025-01-05T16:32:36.785230Z"
        },
        "id": "3881456f",
        "papermill": {
          "duration": null,
          "end_time": null,
          "exception": null,
          "start_time": null,
          "status": "pending"
        },
        "tags": [],
        "trusted": true
      },
      "outputs": [],
      "source": [
        "# Plot Training and Validation Accuracy\n",
        "import matplotlib.pyplot as plt\n",
        "plt.plot(history.history['accuracy'], label='Train Accuracy')\n",
        "plt.plot(history.history['val_accuracy'], label='Validation Accuracy')\n",
        "plt.xlabel('Epochs')\n",
        "plt.ylabel('Accuracy')\n",
        "plt.legend()\n",
        "plt.title('Training and Validation Accuracy')\n",
        "plt.show()"
      ]
    },
    {
      "cell_type": "code",
      "execution_count": null,
      "id": "b86a8f0b",
      "metadata": {
        "execution": {
          "iopub.execute_input": "2025-01-05T16:32:50.648328Z",
          "iopub.status.busy": "2025-01-05T16:32:50.647862Z",
          "iopub.status.idle": "2025-01-05T16:32:50.968487Z",
          "shell.execute_reply": "2025-01-05T16:32:50.967274Z",
          "shell.execute_reply.started": "2025-01-05T16:32:50.648291Z"
        },
        "id": "b86a8f0b",
        "papermill": {
          "duration": null,
          "end_time": null,
          "exception": null,
          "start_time": null,
          "status": "pending"
        },
        "tags": [],
        "trusted": true
      },
      "outputs": [],
      "source": [
        "# Plot Training and Validation Loss\n",
        "plt.plot(history.history['loss'], label='Train Loss')\n",
        "plt.plot(history.history['val_loss'], label='Validation Loss')\n",
        "plt.xlabel('Epochs')\n",
        "plt.ylabel('Loss')\n",
        "plt.legend()\n",
        "plt.title('Training and Validation Loss')\n",
        "plt.show()"
      ]
    },
    {
      "cell_type": "code",
      "execution_count": null,
      "id": "579abfeb",
      "metadata": {
        "execution": {
          "iopub.execute_input": "2025-01-05T16:32:57.414809Z",
          "iopub.status.busy": "2025-01-05T16:32:57.414298Z",
          "iopub.status.idle": "2025-01-05T16:32:57.422191Z",
          "shell.execute_reply": "2025-01-05T16:32:57.420836Z",
          "shell.execute_reply.started": "2025-01-05T16:32:57.414755Z"
        },
        "id": "579abfeb",
        "papermill": {
          "duration": null,
          "end_time": null,
          "exception": null,
          "start_time": null,
          "status": "pending"
        },
        "tags": [],
        "trusted": true
      },
      "outputs": [],
      "source": [
        "# Print final metrics\n",
        "final_accuracy = history.history['accuracy'][-1]\n",
        "final_loss = history.history['loss'][-1]\n",
        "print(f\"Final Training Accuracy: {final_accuracy * 100:.2f}%\")\n",
        "print(f\"Final Training Loss: {final_loss:.4f}\")"
      ]
    }
  ],
  "metadata": {
    "accelerator": "TPU",
    "colab": {
      "gpuType": "V28",
      "provenance": []
    },
    "kaggle": {
      "accelerator": "none",
      "dataSources": [
        {
          "datasetId": 476471,
          "sourceId": 894955,
          "sourceType": "datasetVersion"
        },
        {
          "datasetId": 6196019,
          "sourceId": 10055483,
          "sourceType": "datasetVersion"
        },
        {
          "datasetId": 6429387,
          "sourceId": 10379182,
          "sourceType": "datasetVersion"
        }
      ],
      "dockerImageVersionId": 30786,
      "isGpuEnabled": false,
      "isInternetEnabled": false,
      "language": "python",
      "sourceType": "notebook"
    },
    "kernelspec": {
      "display_name": "Python 3",
      "name": "python3"
    },
    "language_info": {
      "codemirror_mode": {
        "name": "ipython",
        "version": 3
      },
      "file_extension": ".py",
      "mimetype": "text/x-python",
      "name": "python",
      "nbconvert_exporter": "python",
      "pygments_lexer": "ipython3",
      "version": "3.8.18"
    },
    "papermill": {
      "default_parameters": {},
      "duration": 29.2101,
      "end_time": "2025-01-04T17:38:38.000897",
      "environment_variables": {},
      "exception": true,
      "input_path": "__notebook__.ipynb",
      "output_path": "__notebook__.ipynb",
      "parameters": {},
      "start_time": "2025-01-04T17:38:08.790797",
      "version": "2.6.0"
    },
    "widgets": {
      "application/vnd.jupyter.widget-state+json": {
        "114b8a36c677493a8226f5c4ddfe84f6": {
          "model_module": "@jupyter-widgets/controls",
          "model_module_version": "1.5.0",
          "model_name": "VBoxModel",
          "state": {
            "_dom_classes": [],
            "_model_module": "@jupyter-widgets/controls",
            "_model_module_version": "1.5.0",
            "_model_name": "VBoxModel",
            "_view_count": null,
            "_view_module": "@jupyter-widgets/controls",
            "_view_module_version": "1.5.0",
            "_view_name": "VBoxView",
            "box_style": "",
            "children": [
              "IPY_MODEL_d2f19150ee68458c90d741ff5dd8bb1c"
            ],
            "layout": "IPY_MODEL_e97feec12ba04f50b296f01ae6c1a721"
          }
        },
        "165133bd96f44b8b8a5f7f47ddae968d": {
          "model_module": "@jupyter-widgets/controls",
          "model_module_version": "1.5.0",
          "model_name": "ButtonModel",
          "state": {
            "_dom_classes": [],
            "_model_module": "@jupyter-widgets/controls",
            "_model_module_version": "1.5.0",
            "_model_name": "ButtonModel",
            "_view_count": null,
            "_view_module": "@jupyter-widgets/controls",
            "_view_module_version": "1.5.0",
            "_view_name": "ButtonView",
            "button_style": "",
            "description": "Login",
            "disabled": false,
            "icon": "",
            "layout": "IPY_MODEL_6588badc6569444bb2c5d0ed8d94342e",
            "style": "IPY_MODEL_bcba8a283a5d45ebbfbafcdf6edb4484",
            "tooltip": ""
          }
        },
        "1c2d282cd6c6417ca81647cf09a98d68": {
          "model_module": "@jupyter-widgets/controls",
          "model_module_version": "1.5.0",
          "model_name": "TextModel",
          "state": {
            "_dom_classes": [],
            "_model_module": "@jupyter-widgets/controls",
            "_model_module_version": "1.5.0",
            "_model_name": "TextModel",
            "_view_count": null,
            "_view_module": "@jupyter-widgets/controls",
            "_view_module_version": "1.5.0",
            "_view_name": "TextView",
            "continuous_update": true,
            "description": "Username:",
            "description_tooltip": null,
            "disabled": false,
            "layout": "IPY_MODEL_852525d7bafd4d9fabe3b40ea0233426",
            "placeholder": "​",
            "style": "IPY_MODEL_a70f49d2c34940c49ba7ced148bcb6d2",
            "value": "isharau"
          }
        },
        "2444f0dc192f46249ecbdccebab79e0d": {
          "model_module": "@jupyter-widgets/base",
          "model_module_version": "1.2.0",
          "model_name": "LayoutModel",
          "state": {
            "_model_module": "@jupyter-widgets/base",
            "_model_module_version": "1.2.0",
            "_model_name": "LayoutModel",
            "_view_count": null,
            "_view_module": "@jupyter-widgets/base",
            "_view_module_version": "1.2.0",
            "_view_name": "LayoutView",
            "align_content": null,
            "align_items": null,
            "align_self": null,
            "border": null,
            "bottom": null,
            "display": null,
            "flex": null,
            "flex_flow": null,
            "grid_area": null,
            "grid_auto_columns": null,
            "grid_auto_flow": null,
            "grid_auto_rows": null,
            "grid_column": null,
            "grid_gap": null,
            "grid_row": null,
            "grid_template_areas": null,
            "grid_template_columns": null,
            "grid_template_rows": null,
            "height": null,
            "justify_content": null,
            "justify_items": null,
            "left": null,
            "margin": null,
            "max_height": null,
            "max_width": null,
            "min_height": null,
            "min_width": null,
            "object_fit": null,
            "object_position": null,
            "order": null,
            "overflow": null,
            "overflow_x": null,
            "overflow_y": null,
            "padding": null,
            "right": null,
            "top": null,
            "visibility": null,
            "width": null
          }
        },
        "24f593f0865548cb84116cf185d25e69": {
          "model_module": "@jupyter-widgets/controls",
          "model_module_version": "1.5.0",
          "model_name": "HTMLModel",
          "state": {
            "_dom_classes": [],
            "_model_module": "@jupyter-widgets/controls",
            "_model_module_version": "1.5.0",
            "_model_name": "HTMLModel",
            "_view_count": null,
            "_view_module": "@jupyter-widgets/controls",
            "_view_module_version": "1.5.0",
            "_view_name": "HTMLView",
            "description": "",
            "description_tooltip": null,
            "layout": "IPY_MODEL_bd84f7a75f8e41d2acd89db3606d0a42",
            "placeholder": "​",
            "style": "IPY_MODEL_67514ce4975249e9a2b96a487caa5ee0",
            "value": "\n<b>Thank You</b></center>"
          }
        },
        "2bd42080cde54a8d8cdc6e42ea661255": {
          "model_module": "@jupyter-widgets/base",
          "model_module_version": "1.2.0",
          "model_name": "LayoutModel",
          "state": {
            "_model_module": "@jupyter-widgets/base",
            "_model_module_version": "1.2.0",
            "_model_name": "LayoutModel",
            "_view_count": null,
            "_view_module": "@jupyter-widgets/base",
            "_view_module_version": "1.2.0",
            "_view_name": "LayoutView",
            "align_content": null,
            "align_items": null,
            "align_self": null,
            "border": null,
            "bottom": null,
            "display": null,
            "flex": null,
            "flex_flow": null,
            "grid_area": null,
            "grid_auto_columns": null,
            "grid_auto_flow": null,
            "grid_auto_rows": null,
            "grid_column": null,
            "grid_gap": null,
            "grid_row": null,
            "grid_template_areas": null,
            "grid_template_columns": null,
            "grid_template_rows": null,
            "height": null,
            "justify_content": null,
            "justify_items": null,
            "left": null,
            "margin": null,
            "max_height": null,
            "max_width": null,
            "min_height": null,
            "min_width": null,
            "object_fit": null,
            "object_position": null,
            "order": null,
            "overflow": null,
            "overflow_x": null,
            "overflow_y": null,
            "padding": null,
            "right": null,
            "top": null,
            "visibility": null,
            "width": null
          }
        },
        "390a58dc2df84f50b788d2e8b6ccb51c": {
          "model_module": "@jupyter-widgets/controls",
          "model_module_version": "1.5.0",
          "model_name": "LabelModel",
          "state": {
            "_dom_classes": [],
            "_model_module": "@jupyter-widgets/controls",
            "_model_module_version": "1.5.0",
            "_model_name": "LabelModel",
            "_view_count": null,
            "_view_module": "@jupyter-widgets/controls",
            "_view_module_version": "1.5.0",
            "_view_name": "LabelView",
            "description": "",
            "description_tooltip": null,
            "layout": "IPY_MODEL_2bd42080cde54a8d8cdc6e42ea661255",
            "placeholder": "​",
            "style": "IPY_MODEL_47f3827e2db3407eae2a536c9d598791",
            "value": "Connecting..."
          }
        },
        "3d989c510e8d4bbca93a2127e0dfe648": {
          "model_module": "@jupyter-widgets/controls",
          "model_module_version": "1.5.0",
          "model_name": "DescriptionStyleModel",
          "state": {
            "_model_module": "@jupyter-widgets/controls",
            "_model_module_version": "1.5.0",
            "_model_name": "DescriptionStyleModel",
            "_view_count": null,
            "_view_module": "@jupyter-widgets/base",
            "_view_module_version": "1.2.0",
            "_view_name": "StyleView",
            "description_width": ""
          }
        },
        "47f3827e2db3407eae2a536c9d598791": {
          "model_module": "@jupyter-widgets/controls",
          "model_module_version": "1.5.0",
          "model_name": "DescriptionStyleModel",
          "state": {
            "_model_module": "@jupyter-widgets/controls",
            "_model_module_version": "1.5.0",
            "_model_name": "DescriptionStyleModel",
            "_view_count": null,
            "_view_module": "@jupyter-widgets/base",
            "_view_module_version": "1.2.0",
            "_view_name": "StyleView",
            "description_width": ""
          }
        },
        "4925eceb92d549e79775dc4e64132ea5": {
          "model_module": "@jupyter-widgets/controls",
          "model_module_version": "1.5.0",
          "model_name": "PasswordModel",
          "state": {
            "_dom_classes": [],
            "_model_module": "@jupyter-widgets/controls",
            "_model_module_version": "1.5.0",
            "_model_name": "PasswordModel",
            "_view_count": null,
            "_view_module": "@jupyter-widgets/controls",
            "_view_module_version": "1.5.0",
            "_view_name": "PasswordView",
            "continuous_update": true,
            "description": "Token:",
            "description_tooltip": null,
            "disabled": false,
            "layout": "IPY_MODEL_2444f0dc192f46249ecbdccebab79e0d",
            "placeholder": "​",
            "style": "IPY_MODEL_ba0df2feb556442c9d9baeb2e1eaaab8",
            "value": ""
          }
        },
        "5c2fa4c0efbe4d6ebb44d455b1b79d6b": {
          "model_module": "@jupyter-widgets/controls",
          "model_module_version": "1.5.0",
          "model_name": "DescriptionStyleModel",
          "state": {
            "_model_module": "@jupyter-widgets/controls",
            "_model_module_version": "1.5.0",
            "_model_name": "DescriptionStyleModel",
            "_view_count": null,
            "_view_module": "@jupyter-widgets/base",
            "_view_module_version": "1.2.0",
            "_view_name": "StyleView",
            "description_width": ""
          }
        },
        "5fef7519d03d4baf8e5d2afbea90b5e5": {
          "model_module": "@jupyter-widgets/base",
          "model_module_version": "1.2.0",
          "model_name": "LayoutModel",
          "state": {
            "_model_module": "@jupyter-widgets/base",
            "_model_module_version": "1.2.0",
            "_model_name": "LayoutModel",
            "_view_count": null,
            "_view_module": "@jupyter-widgets/base",
            "_view_module_version": "1.2.0",
            "_view_name": "LayoutView",
            "align_content": null,
            "align_items": null,
            "align_self": null,
            "border": null,
            "bottom": null,
            "display": null,
            "flex": null,
            "flex_flow": null,
            "grid_area": null,
            "grid_auto_columns": null,
            "grid_auto_flow": null,
            "grid_auto_rows": null,
            "grid_column": null,
            "grid_gap": null,
            "grid_row": null,
            "grid_template_areas": null,
            "grid_template_columns": null,
            "grid_template_rows": null,
            "height": null,
            "justify_content": null,
            "justify_items": null,
            "left": null,
            "margin": null,
            "max_height": null,
            "max_width": null,
            "min_height": null,
            "min_width": null,
            "object_fit": null,
            "object_position": null,
            "order": null,
            "overflow": null,
            "overflow_x": null,
            "overflow_y": null,
            "padding": null,
            "right": null,
            "top": null,
            "visibility": null,
            "width": null
          }
        },
        "6588badc6569444bb2c5d0ed8d94342e": {
          "model_module": "@jupyter-widgets/base",
          "model_module_version": "1.2.0",
          "model_name": "LayoutModel",
          "state": {
            "_model_module": "@jupyter-widgets/base",
            "_model_module_version": "1.2.0",
            "_model_name": "LayoutModel",
            "_view_count": null,
            "_view_module": "@jupyter-widgets/base",
            "_view_module_version": "1.2.0",
            "_view_name": "LayoutView",
            "align_content": null,
            "align_items": null,
            "align_self": null,
            "border": null,
            "bottom": null,
            "display": null,
            "flex": null,
            "flex_flow": null,
            "grid_area": null,
            "grid_auto_columns": null,
            "grid_auto_flow": null,
            "grid_auto_rows": null,
            "grid_column": null,
            "grid_gap": null,
            "grid_row": null,
            "grid_template_areas": null,
            "grid_template_columns": null,
            "grid_template_rows": null,
            "height": null,
            "justify_content": null,
            "justify_items": null,
            "left": null,
            "margin": null,
            "max_height": null,
            "max_width": null,
            "min_height": null,
            "min_width": null,
            "object_fit": null,
            "object_position": null,
            "order": null,
            "overflow": null,
            "overflow_x": null,
            "overflow_y": null,
            "padding": null,
            "right": null,
            "top": null,
            "visibility": null,
            "width": null
          }
        },
        "67514ce4975249e9a2b96a487caa5ee0": {
          "model_module": "@jupyter-widgets/controls",
          "model_module_version": "1.5.0",
          "model_name": "DescriptionStyleModel",
          "state": {
            "_model_module": "@jupyter-widgets/controls",
            "_model_module_version": "1.5.0",
            "_model_name": "DescriptionStyleModel",
            "_view_count": null,
            "_view_module": "@jupyter-widgets/base",
            "_view_module_version": "1.2.0",
            "_view_name": "StyleView",
            "description_width": ""
          }
        },
        "852525d7bafd4d9fabe3b40ea0233426": {
          "model_module": "@jupyter-widgets/base",
          "model_module_version": "1.2.0",
          "model_name": "LayoutModel",
          "state": {
            "_model_module": "@jupyter-widgets/base",
            "_model_module_version": "1.2.0",
            "_model_name": "LayoutModel",
            "_view_count": null,
            "_view_module": "@jupyter-widgets/base",
            "_view_module_version": "1.2.0",
            "_view_name": "LayoutView",
            "align_content": null,
            "align_items": null,
            "align_self": null,
            "border": null,
            "bottom": null,
            "display": null,
            "flex": null,
            "flex_flow": null,
            "grid_area": null,
            "grid_auto_columns": null,
            "grid_auto_flow": null,
            "grid_auto_rows": null,
            "grid_column": null,
            "grid_gap": null,
            "grid_row": null,
            "grid_template_areas": null,
            "grid_template_columns": null,
            "grid_template_rows": null,
            "height": null,
            "justify_content": null,
            "justify_items": null,
            "left": null,
            "margin": null,
            "max_height": null,
            "max_width": null,
            "min_height": null,
            "min_width": null,
            "object_fit": null,
            "object_position": null,
            "order": null,
            "overflow": null,
            "overflow_x": null,
            "overflow_y": null,
            "padding": null,
            "right": null,
            "top": null,
            "visibility": null,
            "width": null
          }
        },
        "a70f49d2c34940c49ba7ced148bcb6d2": {
          "model_module": "@jupyter-widgets/controls",
          "model_module_version": "1.5.0",
          "model_name": "DescriptionStyleModel",
          "state": {
            "_model_module": "@jupyter-widgets/controls",
            "_model_module_version": "1.5.0",
            "_model_name": "DescriptionStyleModel",
            "_view_count": null,
            "_view_module": "@jupyter-widgets/base",
            "_view_module_version": "1.2.0",
            "_view_name": "StyleView",
            "description_width": ""
          }
        },
        "ba0df2feb556442c9d9baeb2e1eaaab8": {
          "model_module": "@jupyter-widgets/controls",
          "model_module_version": "1.5.0",
          "model_name": "DescriptionStyleModel",
          "state": {
            "_model_module": "@jupyter-widgets/controls",
            "_model_module_version": "1.5.0",
            "_model_name": "DescriptionStyleModel",
            "_view_count": null,
            "_view_module": "@jupyter-widgets/base",
            "_view_module_version": "1.2.0",
            "_view_name": "StyleView",
            "description_width": ""
          }
        },
        "bcba8a283a5d45ebbfbafcdf6edb4484": {
          "model_module": "@jupyter-widgets/controls",
          "model_module_version": "1.5.0",
          "model_name": "ButtonStyleModel",
          "state": {
            "_model_module": "@jupyter-widgets/controls",
            "_model_module_version": "1.5.0",
            "_model_name": "ButtonStyleModel",
            "_view_count": null,
            "_view_module": "@jupyter-widgets/base",
            "_view_module_version": "1.2.0",
            "_view_name": "StyleView",
            "button_color": null,
            "font_weight": ""
          }
        },
        "bd84f7a75f8e41d2acd89db3606d0a42": {
          "model_module": "@jupyter-widgets/base",
          "model_module_version": "1.2.0",
          "model_name": "LayoutModel",
          "state": {
            "_model_module": "@jupyter-widgets/base",
            "_model_module_version": "1.2.0",
            "_model_name": "LayoutModel",
            "_view_count": null,
            "_view_module": "@jupyter-widgets/base",
            "_view_module_version": "1.2.0",
            "_view_name": "LayoutView",
            "align_content": null,
            "align_items": null,
            "align_self": null,
            "border": null,
            "bottom": null,
            "display": null,
            "flex": null,
            "flex_flow": null,
            "grid_area": null,
            "grid_auto_columns": null,
            "grid_auto_flow": null,
            "grid_auto_rows": null,
            "grid_column": null,
            "grid_gap": null,
            "grid_row": null,
            "grid_template_areas": null,
            "grid_template_columns": null,
            "grid_template_rows": null,
            "height": null,
            "justify_content": null,
            "justify_items": null,
            "left": null,
            "margin": null,
            "max_height": null,
            "max_width": null,
            "min_height": null,
            "min_width": null,
            "object_fit": null,
            "object_position": null,
            "order": null,
            "overflow": null,
            "overflow_x": null,
            "overflow_y": null,
            "padding": null,
            "right": null,
            "top": null,
            "visibility": null,
            "width": null
          }
        },
        "c6fafcd5c16544b8aa7bff60d6b7be96": {
          "model_module": "@jupyter-widgets/base",
          "model_module_version": "1.2.0",
          "model_name": "LayoutModel",
          "state": {
            "_model_module": "@jupyter-widgets/base",
            "_model_module_version": "1.2.0",
            "_model_name": "LayoutModel",
            "_view_count": null,
            "_view_module": "@jupyter-widgets/base",
            "_view_module_version": "1.2.0",
            "_view_name": "LayoutView",
            "align_content": null,
            "align_items": null,
            "align_self": null,
            "border": null,
            "bottom": null,
            "display": null,
            "flex": null,
            "flex_flow": null,
            "grid_area": null,
            "grid_auto_columns": null,
            "grid_auto_flow": null,
            "grid_auto_rows": null,
            "grid_column": null,
            "grid_gap": null,
            "grid_row": null,
            "grid_template_areas": null,
            "grid_template_columns": null,
            "grid_template_rows": null,
            "height": null,
            "justify_content": null,
            "justify_items": null,
            "left": null,
            "margin": null,
            "max_height": null,
            "max_width": null,
            "min_height": null,
            "min_width": null,
            "object_fit": null,
            "object_position": null,
            "order": null,
            "overflow": null,
            "overflow_x": null,
            "overflow_y": null,
            "padding": null,
            "right": null,
            "top": null,
            "visibility": null,
            "width": null
          }
        },
        "d2f19150ee68458c90d741ff5dd8bb1c": {
          "model_module": "@jupyter-widgets/controls",
          "model_module_version": "1.5.0",
          "model_name": "LabelModel",
          "state": {
            "_dom_classes": [],
            "_model_module": "@jupyter-widgets/controls",
            "_model_module_version": "1.5.0",
            "_model_name": "LabelModel",
            "_view_count": null,
            "_view_module": "@jupyter-widgets/controls",
            "_view_module_version": "1.5.0",
            "_view_name": "LabelView",
            "description": "",
            "description_tooltip": null,
            "layout": "IPY_MODEL_c6fafcd5c16544b8aa7bff60d6b7be96",
            "placeholder": "​",
            "style": "IPY_MODEL_5c2fa4c0efbe4d6ebb44d455b1b79d6b",
            "value": "Kaggle credentials successfully validated."
          }
        },
        "e97feec12ba04f50b296f01ae6c1a721": {
          "model_module": "@jupyter-widgets/base",
          "model_module_version": "1.2.0",
          "model_name": "LayoutModel",
          "state": {
            "_model_module": "@jupyter-widgets/base",
            "_model_module_version": "1.2.0",
            "_model_name": "LayoutModel",
            "_view_count": null,
            "_view_module": "@jupyter-widgets/base",
            "_view_module_version": "1.2.0",
            "_view_name": "LayoutView",
            "align_content": null,
            "align_items": "center",
            "align_self": null,
            "border": null,
            "bottom": null,
            "display": "flex",
            "flex": null,
            "flex_flow": "column",
            "grid_area": null,
            "grid_auto_columns": null,
            "grid_auto_flow": null,
            "grid_auto_rows": null,
            "grid_column": null,
            "grid_gap": null,
            "grid_row": null,
            "grid_template_areas": null,
            "grid_template_columns": null,
            "grid_template_rows": null,
            "height": null,
            "justify_content": null,
            "justify_items": null,
            "left": null,
            "margin": null,
            "max_height": null,
            "max_width": null,
            "min_height": null,
            "min_width": null,
            "object_fit": null,
            "object_position": null,
            "order": null,
            "overflow": null,
            "overflow_x": null,
            "overflow_y": null,
            "padding": null,
            "right": null,
            "top": null,
            "visibility": null,
            "width": "50%"
          }
        },
        "ea54300a87ee4d3fb4658044d4b3c89d": {
          "model_module": "@jupyter-widgets/controls",
          "model_module_version": "1.5.0",
          "model_name": "HTMLModel",
          "state": {
            "_dom_classes": [],
            "_model_module": "@jupyter-widgets/controls",
            "_model_module_version": "1.5.0",
            "_model_name": "HTMLModel",
            "_view_count": null,
            "_view_module": "@jupyter-widgets/controls",
            "_view_module_version": "1.5.0",
            "_view_name": "HTMLView",
            "description": "",
            "description_tooltip": null,
            "layout": "IPY_MODEL_5fef7519d03d4baf8e5d2afbea90b5e5",
            "placeholder": "​",
            "style": "IPY_MODEL_3d989c510e8d4bbca93a2127e0dfe648",
            "value": "<center> <img\nsrc=https://www.kaggle.com/static/images/site-logo.png\nalt='Kaggle'> <br> Create an API token from <a\nhref=\"https://www.kaggle.com/settings/account\" target=\"_blank\">your Kaggle\nsettings page</a> and paste it below along with your Kaggle username. <br> </center>"
          }
        }
      }
    }
  },
  "nbformat": 4,
  "nbformat_minor": 5
}
