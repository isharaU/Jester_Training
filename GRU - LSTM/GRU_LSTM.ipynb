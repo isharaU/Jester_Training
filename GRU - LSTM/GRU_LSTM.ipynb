{
 "cells": [
  {
   "cell_type": "markdown",
   "id": "7d79734d",
   "metadata": {
    "id": "HOcbyl6NPqoU",
    "papermill": {
     "duration": 0.003979,
     "end_time": "2025-01-04T17:38:12.446091",
     "exception": false,
     "start_time": "2025-01-04T17:38:12.442112",
     "status": "completed"
    },
    "tags": []
   },
   "source": [
    "## **DATA LOADER**"
   ]
  },
  {
   "cell_type": "code",
   "execution_count": 2,
   "id": "60d5d236",
   "metadata": {
    "execution": {
     "iopub.execute_input": "2025-01-05T16:07:20.352536Z",
     "iopub.status.busy": "2025-01-05T16:07:20.352153Z",
     "iopub.status.idle": "2025-01-05T16:07:20.358708Z",
     "shell.execute_reply": "2025-01-05T16:07:20.357292Z",
     "shell.execute_reply.started": "2025-01-05T16:07:20.352495Z"
    },
    "id": "E2fvwyF8Jisf",
    "papermill": {
     "duration": 21.744742,
     "end_time": "2025-01-04T17:38:34.194183",
     "exception": false,
     "start_time": "2025-01-04T17:38:12.449441",
     "status": "completed"
    },
    "tags": [],
    "trusted": true
   },
   "outputs": [],
   "source": [
    "import os\n",
    "import numpy as np\n",
    "import pandas as pd\n",
    "import cv2\n",
    "from tensorflow.keras.utils import to_categorical\n",
    "from sklearn.model_selection import train_test_split\n",
    "from tensorflow.keras import layers, models\n",
    "from tqdm import tqdm\n",
    "import matplotlib.pyplot as plt"
   ]
  },
  {
   "cell_type": "code",
   "execution_count": 4,
   "id": "a9d777b3",
   "metadata": {
    "execution": {
     "iopub.execute_input": "2025-01-05T16:07:28.542205Z",
     "iopub.status.busy": "2025-01-05T16:07:28.541786Z",
     "iopub.status.idle": "2025-01-05T16:07:28.554171Z",
     "shell.execute_reply": "2025-01-05T16:07:28.552451Z",
     "shell.execute_reply.started": "2025-01-05T16:07:28.542169Z"
    },
    "id": "lhOUv43mJkXs",
    "papermill": {
     "duration": 0.015908,
     "end_time": "2025-01-04T17:38:34.221530",
     "exception": false,
     "start_time": "2025-01-04T17:38:34.205622",
     "status": "completed"
    },
    "tags": [],
    "trusted": true
   },
   "outputs": [],
   "source": [
    "def load_data(folder_path, csv_path, is_train=True, max_frames=30):\n",
    "    df = pd.read_csv(csv_path)\n",
    "    video_ids = df['video_id'].values\n",
    "    labels = df['label'].values if is_train else None\n",
    "\n",
    "    data = []\n",
    "    label_list = []\n",
    "\n",
    "    # Add tqdm progress bar\n",
    "    for i, video_id in tqdm(enumerate(video_ids), total=len(video_ids), desc=\"Loading images\"):\n",
    "        video_folder = os.path.join(folder_path, str(video_id))\n",
    "        if not os.path.exists(video_folder):\n",
    "            print(f\"Folder {video_folder}, No such file or directory\")\n",
    "            continue\n",
    "\n",
    "        frames = []\n",
    "        # Add nested progress bar for image loading if you want to see per-folder progress\n",
    "        # for img_name in tqdm(sorted(os.listdir(video_folder)), desc=f\"Loading folder {video_id}\", leave=False):\n",
    "        for img_name in sorted(os.listdir(video_folder)):\n",
    "            img_path = os.path.join(video_folder, img_name)\n",
    "            img = cv2.imread(img_path)\n",
    "            if img is not None:\n",
    "                img = cv2.resize(img, (64, 64))  \n",
    "                frames.append(img)\n",
    "\n",
    "        if len(frames) > max_frames:\n",
    "            frames = frames[:max_frames]\n",
    "\n",
    "        if len(frames) > 0:\n",
    "            data.append(np.array(frames))  \n",
    "            if is_train:\n",
    "                label_list.append(labels[i])\n",
    "\n",
    "    if is_train:\n",
    "        return np.array(data, dtype=object), np.array(label_list)\n",
    "    else:\n",
    "        return np.array(data, dtype=object), None"
   ]
  },
  {
   "cell_type": "code",
   "execution_count": null,
   "id": "87f14e02",
   "metadata": {
    "execution": {
     "iopub.execute_input": "2025-01-05T16:08:32.037795Z",
     "iopub.status.busy": "2025-01-05T16:08:32.037366Z",
     "iopub.status.idle": "2025-01-05T16:08:52.367175Z",
     "shell.execute_reply": "2025-01-05T16:08:52.365984Z",
     "shell.execute_reply.started": "2025-01-05T16:08:32.037753Z"
    },
    "id": "ZCdsw8elJl11",
    "papermill": {
     "duration": 0.825689,
     "end_time": "2025-01-04T17:38:35.050531",
     "exception": true,
     "start_time": "2025-01-04T17:38:34.224842",
     "status": "failed"
    },
    "tags": [],
    "trusted": true
   },
   "outputs": [],
   "source": [
    "\n",
    "train_folder = \"E:/Academic/CS4203 - Research and Development Project/DataSet/Jester/20BN-JESTER/Train\"\n",
    "test_folder = \"E:/Academic/CS4203 - Research and Development Project/DataSet/Jester/20BN-JESTER/Test\"\n",
    "train_csv = \"E:/Academic/CS4203 - Research and Development Project/DataSet/Jester/20BN-JESTER/Train.csv\"\n",
    "test_csv = \"E:/Academic/CS4203 - Research and Development Project/DataSet/Jester/20BN-JESTER/Test.csv\"\n",
    "\n",
    "X_train, y_train = load_data(train_folder, train_csv, is_train=True)\n",
    "\n",
    "unique_labels = np.unique(y_train)\n",
    "label_mapping = {label: idx for idx, label in enumerate(unique_labels)}\n",
    "y_train_encoded = np.array([label_mapping[label] for label in y_train])\n",
    "y_train_onehot = to_categorical(y_train_encoded, num_classes=len(unique_labels))\n",
    "\n",
    "\n",
    "X_test, _ = load_data(test_folder, test_csv, is_train=False)"
   ]
  },
  {
   "cell_type": "code",
   "execution_count": 18,
   "id": "0a111f83",
   "metadata": {
    "execution": {
     "iopub.execute_input": "2025-01-05T16:08:56.962499Z",
     "iopub.status.busy": "2025-01-05T16:08:56.962054Z",
     "iopub.status.idle": "2025-01-05T16:09:06.484244Z",
     "shell.execute_reply": "2025-01-05T16:09:06.482983Z",
     "shell.execute_reply.started": "2025-01-05T16:08:56.962461Z"
    },
    "id": "eexWUdgcJnOD",
    "papermill": {
     "duration": null,
     "end_time": null,
     "exception": null,
     "start_time": null,
     "status": "pending"
    },
    "tags": [],
    "trusted": true
   },
   "outputs": [],
   "source": [
    "\n",
    "X_train = np.array([np.array(frames) / 255.0 for frames in X_train], dtype=object)\n",
    "X_test = np.array([np.array(frames) / 255.0 for frames in X_test], dtype=object)\n",
    "\n",
    "from tensorflow.keras.preprocessing.sequence import pad_sequences\n",
    "\n",
    "max_timesteps = 30\n",
    "X_train = pad_sequences(X_train, maxlen=max_timesteps, padding='post', dtype='float32')\n",
    "X_test = pad_sequences(X_test, maxlen=max_timesteps, padding='post', dtype='float32')\n",
    "\n",
    "X_train = X_train.reshape((X_train.shape[0], X_train.shape[1], 64, 64, 3))\n",
    "X_test = X_test.reshape((X_test.shape[0], X_test.shape[1], 64, 64, 3))"
   ]
  },
  {
   "cell_type": "markdown",
   "id": "7a87e584",
   "metadata": {},
   "source": [
    "## **CNN-LSTM**"
   ]
  },
  {
   "cell_type": "code",
   "execution_count": null,
   "id": "d628d72e",
   "metadata": {
    "execution": {
     "iopub.execute_input": "2025-01-05T16:09:13.297146Z",
     "iopub.status.busy": "2025-01-05T16:09:13.296090Z",
     "iopub.status.idle": "2025-01-05T16:09:13.532113Z",
     "shell.execute_reply": "2025-01-05T16:09:13.530985Z",
     "shell.execute_reply.started": "2025-01-05T16:09:13.297106Z"
    },
    "id": "okVSTwVUJotT",
    "outputId": "9e72088b-fb8e-4dc6-8b8d-589e1af2b590",
    "papermill": {
     "duration": null,
     "end_time": null,
     "exception": null,
     "start_time": null,
     "status": "pending"
    },
    "tags": [],
    "trusted": true
   },
   "outputs": [],
   "source": [
    "model = models.Sequential([\n",
    "    # CNN Layers\n",
    "    layers.TimeDistributed(layers.Conv2D(64, (3, 3), activation='relu'), input_shape=(None, 64, 64, 3)),\n",
    "    layers.TimeDistributed(layers.MaxPooling2D((2, 2))),\n",
    "    layers.TimeDistributed(layers.Conv2D(128, (3, 3), activation='relu')),\n",
    "    layers.TimeDistributed(layers.MaxPooling2D((2, 2))),\n",
    "    layers.TimeDistributed(layers.GlobalAveragePooling2D()),  # Reduces parameters compared to Flatten\n",
    "\n",
    "    # LSTM Layers\n",
    "    layers.LSTM(64, return_sequences=True, activation='tanh'),\n",
    "    layers.LSTM(32, activation='tanh'),\n",
    "\n",
    "    # Dense Layers\n",
    "    layers.Dense(64, activation='relu'),\n",
    "    layers.Dropout(0.5),\n",
    "    layers.Dense(len(unique_labels), activation='softmax')\n",
    "])\n",
    "\n",
    "# Compile the model\n",
    "model.compile(optimizer='adam', loss='categorical_crossentropy', metrics=['accuracy'])\n",
    "\n",
    "# Model summary\n",
    "model.summary()"
   ]
  },
  {
   "cell_type": "code",
   "execution_count": null,
   "id": "54c592e4",
   "metadata": {
    "execution": {
     "iopub.execute_input": "2025-01-05T16:10:46.874658Z",
     "iopub.status.busy": "2025-01-05T16:10:46.874143Z",
     "iopub.status.idle": "2025-01-05T16:19:28.544301Z",
     "shell.execute_reply": "2025-01-05T16:19:28.543157Z",
     "shell.execute_reply.started": "2025-01-05T16:10:46.874606Z"
    },
    "id": "OleACi1gJqDa",
    "outputId": "ceb6f9ce-9e3d-4a36-8778-25bed5e8c53f",
    "papermill": {
     "duration": null,
     "end_time": null,
     "exception": null,
     "start_time": null,
     "status": "pending"
    },
    "tags": [],
    "trusted": true
   },
   "outputs": [],
   "source": [
    "# Training\n",
    "history = model.fit(X_train, y_train_onehot, epochs=50, batch_size=8, validation_split=0.2)"
   ]
  },
  {
   "cell_type": "code",
   "execution_count": null,
   "id": "5f73296c",
   "metadata": {
    "execution": {
     "iopub.execute_input": "2025-01-05T16:19:44.069535Z",
     "iopub.status.busy": "2025-01-05T16:19:44.069109Z",
     "iopub.status.idle": "2025-01-05T16:19:49.889227Z",
     "shell.execute_reply": "2025-01-05T16:19:49.887316Z",
     "shell.execute_reply.started": "2025-01-05T16:19:44.069489Z"
    },
    "id": "w3Qq9KzkJr1E",
    "outputId": "8d513eb1-3758-433d-cdd9-de7a19f99bca",
    "papermill": {
     "duration": null,
     "end_time": null,
     "exception": null,
     "start_time": null,
     "status": "pending"
    },
    "tags": [],
    "trusted": true
   },
   "outputs": [],
   "source": [
    "predictions = model.predict(X_test)\n",
    "predicted_labels = [unique_labels[np.argmax(pred)] for pred in predictions]\n",
    "\n",
    "test_df = pd.read_csv(test_csv)\n",
    "test_df['label'] = predicted_labels\n",
    "test_df.head()"
   ]
  },
  {
   "cell_type": "code",
   "execution_count": null,
   "id": "2aab4c8a",
   "metadata": {
    "execution": {
     "iopub.execute_input": "2025-01-05T16:20:10.829852Z",
     "iopub.status.busy": "2025-01-05T16:20:10.829434Z",
     "iopub.status.idle": "2025-01-05T16:20:11.498249Z",
     "shell.execute_reply": "2025-01-05T16:20:11.497072Z",
     "shell.execute_reply.started": "2025-01-05T16:20:10.829813Z"
    },
    "id": "ddP8BIYfXxha",
    "outputId": "efcdadff-8602-4de8-cdad-0bfe6deb105b",
    "papermill": {
     "duration": null,
     "end_time": null,
     "exception": null,
     "start_time": null,
     "status": "pending"
    },
    "tags": [],
    "trusted": true
   },
   "outputs": [],
   "source": [
    "import matplotlib.pyplot as plt\n",
    "\n",
    "# Plot akurasi\n",
    "plt.plot(history.history['accuracy'], label='Train Accuracy')\n",
    "plt.xlabel('Epochs')\n",
    "plt.ylabel('Accuracy')\n",
    "plt.legend()\n",
    "plt.title('Training Accuracy')\n",
    "plt.show()\n",
    "\n",
    "# Plot loss\n",
    "plt.plot(history.history['loss'], label='Train Loss')\n",
    "plt.xlabel('Epochs')\n",
    "plt.ylabel('Loss')\n",
    "plt.legend()\n",
    "plt.title('Training Loss')\n",
    "plt.show()"
   ]
  },
  {
   "cell_type": "code",
   "execution_count": null,
   "id": "9b150dbc",
   "metadata": {
    "execution": {
     "iopub.execute_input": "2025-01-05T16:20:23.821612Z",
     "iopub.status.busy": "2025-01-05T16:20:23.821205Z",
     "iopub.status.idle": "2025-01-05T16:20:23.828576Z",
     "shell.execute_reply": "2025-01-05T16:20:23.827480Z",
     "shell.execute_reply.started": "2025-01-05T16:20:23.821575Z"
    },
    "id": "6IByG33JX4Pk",
    "outputId": "29c1c170-4cf5-45a3-e67e-102a9f57ade7",
    "papermill": {
     "duration": null,
     "end_time": null,
     "exception": null,
     "start_time": null,
     "status": "pending"
    },
    "tags": [],
    "trusted": true
   },
   "outputs": [],
   "source": [
    "final_accuracy = history.history['accuracy'][-1]\n",
    "print(f\"Final Training Accuracy: {final_accuracy * 100:.2f}%\")\n",
    "\n",
    "for epoch, acc in enumerate(history.history['accuracy'], start=1):\n",
    "    print(f\"Epoch {epoch}: Training Accuracy = {acc * 100:.2f}%\")\n",
    "\n",
    "final_loss = history.history['loss'][-1]\n",
    "print(f\"Final Training Loss: {final_loss:.4f}\")"
   ]
  },
  {
   "cell_type": "code",
   "execution_count": null,
   "id": "be29a590",
   "metadata": {
    "execution": {
     "iopub.execute_input": "2025-01-05T16:20:48.980029Z",
     "iopub.status.busy": "2025-01-05T16:20:48.979404Z",
     "iopub.status.idle": "2025-01-05T16:20:49.608590Z",
     "shell.execute_reply": "2025-01-05T16:20:49.607358Z",
     "shell.execute_reply.started": "2025-01-05T16:20:48.979936Z"
    },
    "id": "I9Th3o1qKAVx",
    "outputId": "4ba553cb-fe80-49c5-cb64-42376c9dcc2d",
    "papermill": {
     "duration": null,
     "end_time": null,
     "exception": null,
     "start_time": null,
     "status": "pending"
    },
    "tags": [],
    "trusted": true
   },
   "outputs": [],
   "source": [
    "import matplotlib.pyplot as plt\n",
    "\n",
    "plt.plot(history.history['accuracy'], label='Train Accuracy')\n",
    "plt.plot(history.history['val_accuracy'], label='Validation Accuracy')\n",
    "plt.xlabel('Epochs')\n",
    "plt.ylabel('Accuracy')\n",
    "plt.legend()\n",
    "plt.title('Training and Validation Accuracy')\n",
    "plt.show()\n",
    "\n",
    "# Plot loss\n",
    "plt.plot(history.history['loss'], label='Train Loss')\n",
    "plt.plot(history.history['val_loss'], label='Validation Loss')\n",
    "plt.xlabel('Epochs')\n",
    "plt.ylabel('Loss')\n",
    "plt.legend()\n",
    "plt.title('Training and Validation Loss')\n",
    "plt.show()"
   ]
  },
  {
   "cell_type": "markdown",
   "id": "f32999b6",
   "metadata": {
    "id": "UYbz9M69PvSQ",
    "papermill": {
     "duration": null,
     "end_time": null,
     "exception": null,
     "start_time": null,
     "status": "pending"
    },
    "tags": []
   },
   "source": [
    "## **CNN-GRU**"
   ]
  },
  {
   "cell_type": "code",
   "execution_count": null,
   "id": "70ab83e2",
   "metadata": {
    "execution": {
     "iopub.execute_input": "2025-01-05T16:20:58.758515Z",
     "iopub.status.busy": "2025-01-05T16:20:58.758099Z",
     "iopub.status.idle": "2025-01-05T16:20:58.882027Z",
     "shell.execute_reply": "2025-01-05T16:20:58.880759Z",
     "shell.execute_reply.started": "2025-01-05T16:20:58.758478Z"
    },
    "id": "q7dy1MmzPzRo",
    "papermill": {
     "duration": null,
     "end_time": null,
     "exception": null,
     "start_time": null,
     "status": "pending"
    },
    "tags": [],
    "trusted": true
   },
   "outputs": [],
   "source": [
    "model = models.Sequential([\n",
    "    # CNN Layers\n",
    "    layers.TimeDistributed(layers.Conv2D(64, (3, 3), activation='relu'), input_shape=(None, 64, 64, 3)),\n",
    "    layers.TimeDistributed(layers.MaxPooling2D((2, 2))),\n",
    "    layers.TimeDistributed(layers.Conv2D(128, (3, 3), activation='relu')),\n",
    "    layers.TimeDistributed(layers.MaxPooling2D((2, 2))),\n",
    "    layers.TimeDistributed(layers.GlobalAveragePooling2D()),  # Reduces parameters compared to Flatten\n",
    "\n",
    "    # GRU Layers\n",
    "    layers.GRU(64, return_sequences=True, activation='tanh'),\n",
    "    layers.GRU(32, activation='tanh'),\n",
    "\n",
    "    # Dense Layers\n",
    "    layers.Dense(64, activation='relu'),\n",
    "    layers.Dropout(0.5),\n",
    "    layers.Dense(len(unique_labels), activation='softmax')\n",
    "])\n",
    "\n",
    "# Compile the model\n",
    "model.compile(optimizer='adam', loss='categorical_crossentropy', metrics=['accuracy'])\n",
    "\n",
    "# Model summary\n",
    "model.summary()"
   ]
  },
  {
   "cell_type": "code",
   "execution_count": null,
   "id": "af5d5144",
   "metadata": {
    "execution": {
     "iopub.execute_input": "2025-01-05T16:21:20.937138Z",
     "iopub.status.busy": "2025-01-05T16:21:20.936712Z",
     "iopub.status.idle": "2025-01-05T16:31:54.563435Z",
     "shell.execute_reply": "2025-01-05T16:31:54.562046Z",
     "shell.execute_reply.started": "2025-01-05T16:21:20.937103Z"
    },
    "id": "JOUaHTmjQT-6",
    "papermill": {
     "duration": null,
     "end_time": null,
     "exception": null,
     "start_time": null,
     "status": "pending"
    },
    "tags": [],
    "trusted": true
   },
   "outputs": [],
   "source": [
    "# Training the model\n",
    "history = model.fit(X_train, y_train_onehot, epochs=50, batch_size=4, validation_split=0.2)"
   ]
  },
  {
   "cell_type": "code",
   "execution_count": null,
   "id": "567e0357",
   "metadata": {
    "execution": {
     "iopub.execute_input": "2025-01-05T16:32:17.913907Z",
     "iopub.status.busy": "2025-01-05T16:32:17.913434Z",
     "iopub.status.idle": "2025-01-05T16:32:24.182417Z",
     "shell.execute_reply": "2025-01-05T16:32:24.181270Z",
     "shell.execute_reply.started": "2025-01-05T16:32:17.913857Z"
    },
    "id": "72FMS-iSQWq1",
    "papermill": {
     "duration": null,
     "end_time": null,
     "exception": null,
     "start_time": null,
     "status": "pending"
    },
    "tags": [],
    "trusted": true
   },
   "outputs": [],
   "source": [
    "# Predictions on test data\n",
    "predictions = model.predict(X_test)\n",
    "predicted_labels = [unique_labels[np.argmax(pred)] for pred in predictions]\n",
    "\n",
    "test_df = pd.read_csv(test_csv)\n",
    "test_df['label'] = predicted_labels\n",
    "test_df.head()"
   ]
  },
  {
   "cell_type": "code",
   "execution_count": null,
   "id": "3881456f",
   "metadata": {
    "execution": {
     "iopub.execute_input": "2025-01-05T16:32:36.785286Z",
     "iopub.status.busy": "2025-01-05T16:32:36.784683Z",
     "iopub.status.idle": "2025-01-05T16:32:37.132442Z",
     "shell.execute_reply": "2025-01-05T16:32:37.131229Z",
     "shell.execute_reply.started": "2025-01-05T16:32:36.785230Z"
    },
    "id": "FfBCGkMfQZcw",
    "papermill": {
     "duration": null,
     "end_time": null,
     "exception": null,
     "start_time": null,
     "status": "pending"
    },
    "tags": [],
    "trusted": true
   },
   "outputs": [],
   "source": [
    "# Plot Training and Validation Accuracy\n",
    "import matplotlib.pyplot as plt\n",
    "plt.plot(history.history['accuracy'], label='Train Accuracy')\n",
    "plt.plot(history.history['val_accuracy'], label='Validation Accuracy')\n",
    "plt.xlabel('Epochs')\n",
    "plt.ylabel('Accuracy')\n",
    "plt.legend()\n",
    "plt.title('Training and Validation Accuracy')\n",
    "plt.show()"
   ]
  },
  {
   "cell_type": "code",
   "execution_count": null,
   "id": "b86a8f0b",
   "metadata": {
    "execution": {
     "iopub.execute_input": "2025-01-05T16:32:50.648328Z",
     "iopub.status.busy": "2025-01-05T16:32:50.647862Z",
     "iopub.status.idle": "2025-01-05T16:32:50.968487Z",
     "shell.execute_reply": "2025-01-05T16:32:50.967274Z",
     "shell.execute_reply.started": "2025-01-05T16:32:50.648291Z"
    },
    "id": "RfamU5AhQcw_",
    "papermill": {
     "duration": null,
     "end_time": null,
     "exception": null,
     "start_time": null,
     "status": "pending"
    },
    "tags": [],
    "trusted": true
   },
   "outputs": [],
   "source": [
    "# Plot Training and Validation Loss\n",
    "plt.plot(history.history['loss'], label='Train Loss')\n",
    "plt.plot(history.history['val_loss'], label='Validation Loss')\n",
    "plt.xlabel('Epochs')\n",
    "plt.ylabel('Loss')\n",
    "plt.legend()\n",
    "plt.title('Training and Validation Loss')\n",
    "plt.show()"
   ]
  },
  {
   "cell_type": "code",
   "execution_count": null,
   "id": "579abfeb",
   "metadata": {
    "execution": {
     "iopub.execute_input": "2025-01-05T16:32:57.414809Z",
     "iopub.status.busy": "2025-01-05T16:32:57.414298Z",
     "iopub.status.idle": "2025-01-05T16:32:57.422191Z",
     "shell.execute_reply": "2025-01-05T16:32:57.420836Z",
     "shell.execute_reply.started": "2025-01-05T16:32:57.414755Z"
    },
    "id": "fhEGXQGCQec-",
    "papermill": {
     "duration": null,
     "end_time": null,
     "exception": null,
     "start_time": null,
     "status": "pending"
    },
    "tags": [],
    "trusted": true
   },
   "outputs": [],
   "source": [
    "# Print final metrics\n",
    "final_accuracy = history.history['accuracy'][-1]\n",
    "final_loss = history.history['loss'][-1]\n",
    "print(f\"Final Training Accuracy: {final_accuracy * 100:.2f}%\")\n",
    "print(f\"Final Training Loss: {final_loss:.4f}\")"
   ]
  }
 ],
 "metadata": {
  "accelerator": "TPU",
  "colab": {
   "gpuType": "V28",
   "provenance": []
  },
  "kaggle": {
   "accelerator": "none",
   "dataSources": [
    {
     "datasetId": 476471,
     "sourceId": 894955,
     "sourceType": "datasetVersion"
    },
    {
     "datasetId": 6196019,
     "sourceId": 10055483,
     "sourceType": "datasetVersion"
    },
    {
     "datasetId": 6429387,
     "sourceId": 10379182,
     "sourceType": "datasetVersion"
    }
   ],
   "dockerImageVersionId": 30786,
   "isGpuEnabled": false,
   "isInternetEnabled": false,
   "language": "python",
   "sourceType": "notebook"
  },
  "kernelspec": {
   "display_name": "lstm_env",
   "language": "python",
   "name": "python3"
  },
  "language_info": {
   "codemirror_mode": {
    "name": "ipython",
    "version": 3
   },
   "file_extension": ".py",
   "mimetype": "text/x-python",
   "name": "python",
   "nbconvert_exporter": "python",
   "pygments_lexer": "ipython3",
   "version": "3.8.18"
  },
  "papermill": {
   "default_parameters": {},
   "duration": 29.2101,
   "end_time": "2025-01-04T17:38:38.000897",
   "environment_variables": {},
   "exception": true,
   "input_path": "__notebook__.ipynb",
   "output_path": "__notebook__.ipynb",
   "parameters": {},
   "start_time": "2025-01-04T17:38:08.790797",
   "version": "2.6.0"
  }
 },
 "nbformat": 4,
 "nbformat_minor": 5
}
