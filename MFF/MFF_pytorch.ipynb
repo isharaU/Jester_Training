{
  "cells": [
    {
      "cell_type": "code",
      "execution_count": null,
      "metadata": {
        "colab": {
          "base_uri": "https://localhost:8080/"
        },
        "id": "08eo3Ef2JZEi",
        "outputId": "7f562721-9a2b-4264-c51d-3f781f83d5df"
      },
      "outputs": [],
      "source": [
        "!git clone https://github.com/okankop/MFF-pytorch.git"
      ]
    },
    {
      "cell_type": "code",
      "execution_count": null,
      "metadata": {
        "colab": {
          "base_uri": "https://localhost:8080/"
        },
        "id": "t9y3mp0wLsWB",
        "outputId": "00f71bc7-4f62-4b71-9f3e-81477798201e"
      },
      "outputs": [],
      "source": [
        "!sudo apt-get install python3.7\n",
        "!sudo apt-get update -y\n",
        "!sudo update-alternatives --install /usr/bin/python3 python3 /usr/bin/python3.7 4\n",
        "!sudo update-alternatives --set python3 /usr/bin/python3.7"
      ]
    },
    {
      "cell_type": "code",
      "execution_count": null,
      "metadata": {
        "colab": {
          "base_uri": "https://localhost:8080/"
        },
        "id": "J-4UnyTGLyhs",
        "outputId": "785194b3-3ac3-439d-db16-1d0f27d1a56e"
      },
      "outputs": [],
      "source": [
        "!python --version"
      ]
    },
    {
      "cell_type": "code",
      "execution_count": null,
      "metadata": {
        "colab": {
          "base_uri": "https://localhost:8080/"
        },
        "id": "yo28lzekNnxL",
        "outputId": "92bf672f-627a-4553-cd47-855018ce72b3"
      },
      "outputs": [],
      "source": [
        "!sudo apt-get install python3.7-distutils\n",
        "!wget https://bootstrap.pypa.io/pip/3.7/get-pip.py\n",
        "!python3 get-pip.py\n"
      ]
    },
    {
      "cell_type": "code",
      "execution_count": null,
      "metadata": {
        "colab": {
          "base_uri": "https://localhost:8080/"
        },
        "id": "07O2d2ukL1Wb",
        "outputId": "5a85ac70-3250-4952-8304-8a2b8b02b054"
      },
      "outputs": [],
      "source": [
        "!ls"
      ]
    },
    {
      "cell_type": "code",
      "execution_count": null,
      "metadata": {
        "colab": {
          "base_uri": "https://localhost:8080/"
        },
        "id": "j1ScrSiwL4gq",
        "outputId": "f6dd4dc7-1071-451f-f45d-dda24c6fbdea"
      },
      "outputs": [],
      "source": [
        "%cd MFF-pytorch"
      ]
    },
    {
      "cell_type": "code",
      "execution_count": null,
      "metadata": {
        "colab": {
          "base_uri": "https://localhost:8080/"
        },
        "id": "SmXUnzKJL67y",
        "outputId": "dbf144df-a361-46b0-faab-b655088ad4d2"
      },
      "outputs": [],
      "source": [
        "!pip install -r requirements.txt"
      ]
    },
    {
      "cell_type": "code",
      "execution_count": null,
      "metadata": {
        "colab": {
          "base_uri": "https://localhost:8080/"
        },
        "id": "E26rSMVNIVRW",
        "outputId": "88a197a6-0b9a-4f93-9f39-b534221357a0"
      },
      "outputs": [],
      "source": [
        "from google.colab import drive\n",
        "drive.mount('/content/drive')"
      ]
    },
    {
      "cell_type": "code",
      "execution_count": null,
      "metadata": {
        "colab": {
          "base_uri": "https://localhost:8080/"
        },
        "id": "3ToXEMsvN18K",
        "outputId": "6f732a01-406c-41b2-b547-6656674e7684"
      },
      "outputs": [],
      "source": [
        "!python process_dataset.py"
      ]
    },
    {
      "cell_type": "code",
      "execution_count": null,
      "metadata": {
        "id": "wgJ9Omg5Y-zo"
      },
      "outputs": [],
      "source": [
        "!python datasets_video.py"
      ]
    },
    {
      "cell_type": "code",
      "execution_count": null,
      "metadata": {
        "colab": {
          "base_uri": "https://localhost:8080/"
        },
        "id": "TnlXIFnv3OCu",
        "outputId": "7031b7a9-955b-42e7-bdf5-6e5a0b42bcc5"
      },
      "outputs": [],
      "source": [
        "!pip install scikit-learn"
      ]
    },
    {
      "cell_type": "code",
      "execution_count": null,
      "metadata": {
        "colab": {
          "base_uri": "https://localhost:8080/"
        },
        "id": "6U0fQxYLL5e4",
        "outputId": "b3a8b5cd-3e50-4fb4-9539-55037d4ca3b3"
      },
      "outputs": [],
      "source": [
        "!python test_models.py jester RGBFlow /content/MFF-pytorch/pretrained_models/MFF_jester_RGBFlow_BNInception_segment4_3f1c_best.pth.tar --arch BNInception --consensus_type MLP --test_crops 1 --num_motion 3 --test_segments 4"
      ]
    }
  ],
  "metadata": {
    "accelerator": "GPU",
    "colab": {
      "gpuType": "T4",
      "provenance": []
    },
    "kernelspec": {
      "display_name": "Python 3",
      "name": "python3"
    },
    "language_info": {
      "name": "python"
    }
  },
  "nbformat": 4,
  "nbformat_minor": 0
}
